{
 "cells": [
  {
   "cell_type": "markdown",
   "id": "b6596504",
   "metadata": {},
   "source": [
    "1. What is indentation in Python, and why is it important? \n",
    "\n",
    "ans. Indentation in python is spacing in pyhton.it is important because it tells the interpretur when the block of code starts and ends"
   ]
  },
  {
   "cell_type": "markdown",
   "id": "30b1b6eb",
   "metadata": {},
   "source": [
    "2. Explain the difference syntax errors and runtime errors? \n",
    "\n",
    "ans.syntax error happens when the coding language rules are broken . syntax error occurs before executing the program\n",
    "runtime error occurs during the execution of program. rumtime error occurs not because coding rules are broken it occurs due to errors like logical errors"
   ]
  },
  {
   "cell_type": "markdown",
   "id": "2af23434",
   "metadata": {},
   "source": [
    "3. How do you assign a value to a variable? \n",
    "ans. varibale_name = value\n",
    "\n",
    "eg : a = 5"
   ]
  },
  {
   "cell_type": "markdown",
   "id": "9cf7188a",
   "metadata": {},
   "source": [
    "4. What is the difference between mutable and immutable data types?\n",
    "\n",
    "ans. mutable objects can be changed \n",
    "     immutable objects cannot be changed"
   ]
  },
  {
   "cell_type": "markdown",
   "id": "d7f021ad",
   "metadata": {},
   "source": [
    "5. What is a lambda function? When is it useful? \n",
    "\n",
    "\n",
    "ans. lambda is a function with no name . it is used to return the value of a single expression automatically\n",
    "    lambda function is used with keyword lambda. it is used for one line return code when defining a fuction is unneccesary"
   ]
  },
  {
   "cell_type": "code",
   "execution_count": 11,
   "id": "a94c7df0",
   "metadata": {},
   "outputs": [
    {
     "name": "stdout",
     "output_type": "stream",
     "text": [
      "[0, 1, 1, 2, 3, 5, 8, 13, 21]\n",
      "54\n"
     ]
    }
   ],
   "source": [
    "#6. Write a program to generate the first n Fibonacci numbers and print their sum.\n",
    "\n",
    "n = int(input(\"enter the number\"))\n",
    "l=[0,1]\n",
    "for i in range(2,n):\n",
    "    l.append(l[i-1] + l[i-2])\n",
    "print(l)\n",
    "print(sum(l))\n",
    "    "
   ]
  },
  {
   "cell_type": "code",
   "execution_count": 4,
   "id": "5b83b89d",
   "metadata": {},
   "outputs": [
    {
     "name": "stdout",
     "output_type": "stream",
     "text": [
      "name  Abin age is 20 city Kannur\n"
     ]
    }
   ],
   "source": [
    "#7. Create 3 variables name, age and city. Assign your details and print them in one sentence. \n",
    "\n",
    "name = \"Abin\"\n",
    "age = 20\n",
    "city = \"Kannur\"\n",
    "\n",
    "print(f\"name  {name} age is {age} city {city}\")"
   ]
  },
  {
   "cell_type": "code",
   "execution_count": 5,
   "id": "4ac5e530",
   "metadata": {},
   "outputs": [
    {
     "name": "stdout",
     "output_type": "stream",
     "text": [
      "1 3\n"
     ]
    }
   ],
   "source": [
    "#8. Write a program that swaps the values of two variables. \n",
    "\n",
    "a = int(input(\"enter number\"))\n",
    "b = int(input(\"enter number\"))\n",
    "c = a\n",
    "a = b\n",
    "b = c\n",
    "print(a,b)"
   ]
  },
  {
   "cell_type": "code",
   "execution_count": 6,
   "id": "594f2899",
   "metadata": {},
   "outputs": [
    {
     "name": "stdout",
     "output_type": "stream",
     "text": [
      "40\n"
     ]
    }
   ],
   "source": [
    "#9. Write a program to calculate the area of a rectangle using variables length and width. \n",
    "\n",
    "length = int(input(\"enter the length\"))\n",
    "width = int(input(\"enter the width\"))\n",
    "area = length * width\n",
    "print(area)\n"
   ]
  },
  {
   "cell_type": "code",
   "execution_count": 7,
   "id": "ffe59248",
   "metadata": {},
   "outputs": [
    {
     "name": "stdout",
     "output_type": "stream",
     "text": [
      "150\n"
     ]
    }
   ],
   "source": [
    "#10. Write a Python program that converts a string “50” into an integer and add 100 to it.\n",
    "\n",
    "a = \"50\"\n",
    "b = int(a) + 100\n",
    "print(b)"
   ]
  },
  {
   "cell_type": "code",
   "execution_count": null,
   "id": "39a3164f",
   "metadata": {},
   "outputs": [
    {
     "ename": "TypeError",
     "evalue": "'tuple' object does not support item assignment",
     "output_type": "error",
     "traceback": [
      "\u001b[31m---------------------------------------------------------------------------\u001b[39m",
      "\u001b[31mTypeError\u001b[39m                                 Traceback (most recent call last)",
      "\u001b[36mCell\u001b[39m\u001b[36m \u001b[39m\u001b[32mIn[33]\u001b[39m\u001b[32m, line 4\u001b[39m\n\u001b[32m      1\u001b[39m \u001b[38;5;66;03m#11. Create a tuple of 3 elements and try to change one element. Observe and explain the error. \u001b[39;00m\n\u001b[32m      3\u001b[39m t = (\u001b[32m5\u001b[39m,\u001b[32m3\u001b[39m,\u001b[32m6\u001b[39m)\n\u001b[32m----> \u001b[39m\u001b[32m4\u001b[39m \u001b[43mt\u001b[49m\u001b[43m[\u001b[49m\u001b[32;43m0\u001b[39;49m\u001b[43m]\u001b[49m = \u001b[32m7\u001b[39m\n",
      "\u001b[31mTypeError\u001b[39m: 'tuple' object does not support item assignment"
     ]
    }
   ],
   "source": [
    "#11. Create a tuple of 3 elements and try to change one element. Observe and explain the error. \n",
    "\n",
    "t = (5,3,6)\n",
    "t[0] = 7  # it cannot be changd because tuple is immutable"
   ]
  },
  {
   "cell_type": "code",
   "execution_count": 8,
   "id": "5aac5a4c",
   "metadata": {},
   "outputs": [
    {
     "name": "stdout",
     "output_type": "stream",
     "text": [
      "there is atleast one element common\n"
     ]
    }
   ],
   "source": [
    "#12. Write a program that checks if two lists have at least one element in common using sets. \n",
    "\n",
    "l1 = [9,4,2,6]\n",
    "l2 =[5,2,8,1]\n",
    "\n",
    "if set(l1) & set(l2):\n",
    "    print(\"there is atleast one element common\")\n",
    "else:\n",
    "    print(\"no common\")\n",
    "\n"
   ]
  },
  {
   "cell_type": "code",
   "execution_count": 9,
   "id": "7b3d08f6",
   "metadata": {},
   "outputs": [
    {
     "name": "stdout",
     "output_type": "stream",
     "text": [
      "yes\n"
     ]
    }
   ],
   "source": [
    "#13. Write a function is_prime (n) that checks whether a number is prime or not. \n",
    "\n",
    "def is_prime(n):\n",
    "    for i in range(2,n):\n",
    "        if n%i==0:\n",
    "            print(\"not\")\n",
    "            break\n",
    "\n",
    "    else:   \n",
    "        print(\"yes\")\n",
    "\n",
    "\n",
    "is_prime(2)"
   ]
  },
  {
   "cell_type": "code",
   "execution_count": null,
   "id": "ee02faa2",
   "metadata": {},
   "outputs": [
    {
     "data": {
      "text/plain": [
       "True"
      ]
     },
     "execution_count": 73,
     "metadata": {},
     "output_type": "execute_result"
    }
   ],
   "source": [
    "#14. Write a function is_palindrome(word) that returns True if the word is palindrome. \n",
    "\n",
    "def palindorme(words):\n",
    "    l=words\n",
    "    l2=words[::-1]\n",
    "    if l == l2:\n",
    "        return True\n",
    "\n",
    "palindorme(\"malayalam\")"
   ]
  },
  {
   "cell_type": "code",
   "execution_count": null,
   "id": "f6991a6b",
   "metadata": {},
   "outputs": [
    {
     "name": "stdout",
     "output_type": "stream",
     "text": [
      "5.0\n"
     ]
    }
   ],
   "source": [
    "#15. Write a python program to create a simple calculator using functions.  \n",
    "\n",
    "def add(n1,n2):\n",
    "    return n1+n2\n",
    "def sub(n1,n2):\n",
    "    return n1-n2\n",
    "def mul(n1,n2):\n",
    "    return n1*n2\n",
    "def div(n1,n2):\n",
    "    return n1/n2\n",
    "\n",
    "n1 = int(input(\"enter the first number\"))\n",
    "n2 = int(input(\"enter the second number\"))\n",
    "op = input()\n",
    "if op == \"+\": \n",
    "    print(add(n1,n2))\n",
    "elif op == \"-\":\n",
    "    print(sub(n1,n2))\n",
    "elif op == \"*\":\n",
    "    print(mul(n1,n2))\n",
    "elif op == \"/\":\n",
    "    print(div(n1,n2))\n",
    "else:\n",
    "    print(\"valid expression\")"
   ]
  },
  {
   "cell_type": "code",
   "execution_count": 19,
   "id": "2851b3f3",
   "metadata": {},
   "outputs": [
    {
     "name": "stdout",
     "output_type": "stream",
     "text": [
      "even number\n"
     ]
    }
   ],
   "source": [
    "# Write a function check_even_odd(num) that takes a number and prints whether its even or odd.\n",
    "\n",
    "def check_even_odd(num):\n",
    "    if num%2 ==0:\n",
    "        print(\"even number\")\n",
    "    else:\n",
    "        print(\"odd number\")\n",
    "\n",
    "check_even_odd(10)"
   ]
  },
  {
   "cell_type": "code",
   "execution_count": 23,
   "id": "efe1f1cf",
   "metadata": {},
   "outputs": [
    {
     "name": "stdout",
     "output_type": "stream",
     "text": [
      "43\n"
     ]
    }
   ],
   "source": [
    "#17. Write a function reverse_number(n) that returns the reverse of a number.\n",
    "\n",
    "def reverse_number(n):\n",
    "    n1=str(n)\n",
    "    return n1[::-1]\n",
    "\n",
    "print(reverse_number(34))"
   ]
  },
  {
   "cell_type": "code",
   "execution_count": 24,
   "id": "1b12f798",
   "metadata": {},
   "outputs": [
    {
     "name": "stdout",
     "output_type": "stream",
     "text": [
      "division\n",
      "zero divison errot occured\n",
      "problem ended\n"
     ]
    }
   ],
   "source": [
    "#18. Write a program using try, except, else and finally together.\n",
    "\n",
    "print(\"division\")\n",
    "n = int(input(\"enter one number\"))\n",
    "n2 = int(input(\"enter 2nd number\"))\n",
    "try :\n",
    "    d =n/n2\n",
    "    print(d)\n",
    "\n",
    "except ZeroDivisionError:\n",
    "    print(\"zero divison errot occured\")\n",
    "\n",
    "finally:\n",
    "    print(\"problem ended\")"
   ]
  }
 ],
 "metadata": {
  "kernelspec": {
   "display_name": "assignment",
   "language": "python",
   "name": "python3"
  },
  "language_info": {
   "codemirror_mode": {
    "name": "ipython",
    "version": 3
   },
   "file_extension": ".py",
   "mimetype": "text/x-python",
   "name": "python",
   "nbconvert_exporter": "python",
   "pygments_lexer": "ipython3",
   "version": "3.13.7"
  }
 },
 "nbformat": 4,
 "nbformat_minor": 5
}
